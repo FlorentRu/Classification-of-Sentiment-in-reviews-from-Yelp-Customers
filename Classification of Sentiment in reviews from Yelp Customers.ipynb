{
 "cells": [
  {
   "cell_type": "markdown",
   "id": "5f49e9af",
   "metadata": {},
   "source": [
    "## Description of the Code\n",
    "\n",
    "\n",
    "### Key Components:\n",
    "\n",
    "#### - Data Loading and Preprocessing\n",
    "\n",
    "Loads a Yelp reviews dataset from a CSV file.\n",
    "Selects the first 1,000 reviews to reduce resource usage.\n",
    "Adjusts the review ratings to be zero-indexed and renames the 'stars' column to 'label'.\n",
    "\n",
    "#### - Dataset Splitting\n",
    "\n",
    "#### - Model Fine-Tuning\n",
    "\n",
    "#### - Defines functions to fine-tune BERT and RoBERTa models\n",
    "\n",
    "#### - Comparison with SOTA\n"
   ]
  },
  {
   "cell_type": "code",
   "execution_count": 4,
   "id": "dfedace6",
   "metadata": {},
   "outputs": [
    {
     "name": "stderr",
     "output_type": "stream",
     "text": [
      "C:\\Users\\flore\\AppData\\Roaming\\Python\\Python311\\site-packages\\huggingface_hub\\file_download.py:1150: FutureWarning: `resume_download` is deprecated and will be removed in version 1.0.0. Downloads always resume when possible. If you want to force a new download, use `force_download=True`.\n",
      "  warnings.warn(\n",
      "Some weights of BertForSequenceClassification were not initialized from the model checkpoint at prajjwal1/bert-mini and are newly initialized: ['classifier.bias', 'classifier.weight']\n",
      "You should probably TRAIN this model on a down-stream task to be able to use it for predictions and inference.\n"
     ]
    },
    {
     "data": {
      "application/vnd.jupyter.widget-view+json": {
       "model_id": "",
       "version_major": 2,
       "version_minor": 0
      },
      "text/plain": [
       "Map:   0%|          | 0/800 [00:00<?, ? examples/s]"
      ]
     },
     "metadata": {},
     "output_type": "display_data"
    },
    {
     "data": {
      "application/vnd.jupyter.widget-view+json": {
       "model_id": "",
       "version_major": 2,
       "version_minor": 0
      },
      "text/plain": [
       "Map:   0%|          | 0/200 [00:00<?, ? examples/s]"
      ]
     },
     "metadata": {},
     "output_type": "display_data"
    },
    {
     "name": "stderr",
     "output_type": "stream",
     "text": [
      "C:\\Users\\flore\\AppData\\Roaming\\Python\\Python311\\site-packages\\accelerate\\accelerator.py:451: FutureWarning: Passing the following arguments to `Accelerator` is deprecated and will be removed in version 1.0 of Accelerate: dict_keys(['dispatch_batches']). Please pass an `accelerate.DataLoaderConfiguration` instead: \n",
      "dataloader_config = DataLoaderConfiguration(dispatch_batches=None)\n",
      "  warnings.warn(\n"
     ]
    },
    {
     "data": {
      "text/html": [
       "\n",
       "    <div>\n",
       "      \n",
       "      <progress value='200' max='200' style='width:300px; height:20px; vertical-align: middle;'></progress>\n",
       "      [200/200 01:53, Epoch 2/2]\n",
       "    </div>\n",
       "    <table border=\"1\" class=\"dataframe\">\n",
       "  <thead>\n",
       " <tr style=\"text-align: left;\">\n",
       "      <th>Epoch</th>\n",
       "      <th>Training Loss</th>\n",
       "      <th>Validation Loss</th>\n",
       "      <th>Accuracy</th>\n",
       "    </tr>\n",
       "  </thead>\n",
       "  <tbody>\n",
       "    <tr>\n",
       "      <td>1</td>\n",
       "      <td>No log</td>\n",
       "      <td>1.455758</td>\n",
       "      <td>0.350000</td>\n",
       "    </tr>\n",
       "    <tr>\n",
       "      <td>2</td>\n",
       "      <td>No log</td>\n",
       "      <td>1.446912</td>\n",
       "      <td>0.420000</td>\n",
       "    </tr>\n",
       "  </tbody>\n",
       "</table><p>"
      ],
      "text/plain": [
       "<IPython.core.display.HTML object>"
      ]
     },
     "metadata": {},
     "output_type": "display_data"
    },
    {
     "data": {
      "text/html": [
       "\n",
       "    <div>\n",
       "      \n",
       "      <progress value='50' max='50' style='width:300px; height:20px; vertical-align: middle;'></progress>\n",
       "      [50/50 00:04]\n",
       "    </div>\n",
       "    "
      ],
      "text/plain": [
       "<IPython.core.display.HTML object>"
      ]
     },
     "metadata": {},
     "output_type": "display_data"
    },
    {
     "name": "stderr",
     "output_type": "stream",
     "text": [
      "C:\\Users\\flore\\AppData\\Roaming\\Python\\Python311\\site-packages\\huggingface_hub\\file_download.py:1150: FutureWarning: `resume_download` is deprecated and will be removed in version 1.0.0. Downloads always resume when possible. If you want to force a new download, use `force_download=True`.\n",
      "  warnings.warn(\n"
     ]
    },
    {
     "data": {
      "application/vnd.jupyter.widget-view+json": {
       "model_id": "8ddc0610adfc4be49b7b48524a5c61ca",
       "version_major": 2,
       "version_minor": 0
      },
      "text/plain": [
       "vocab.json:   0%|          | 0.00/899k [00:00<?, ?B/s]"
      ]
     },
     "metadata": {},
     "output_type": "display_data"
    },
    {
     "name": "stderr",
     "output_type": "stream",
     "text": [
      "C:\\Users\\flore\\AppData\\Roaming\\Python\\Python311\\site-packages\\huggingface_hub\\file_download.py:159: UserWarning: `huggingface_hub` cache-system uses symlinks by default to efficiently store duplicated files but your machine does not support them in C:\\Users\\flore\\.cache\\huggingface\\hub\\models--distilroberta-base. Caching files will still work but in a degraded version that might require more space on your disk. This warning can be disabled by setting the `HF_HUB_DISABLE_SYMLINKS_WARNING` environment variable. For more details, see https://huggingface.co/docs/huggingface_hub/how-to-cache#limitations.\n",
      "To support symlinks on Windows, you either need to activate Developer Mode or to run Python as an administrator. In order to see activate developer mode, see this article: https://docs.microsoft.com/en-us/windows/apps/get-started/enable-your-device-for-development\n",
      "  warnings.warn(message)\n"
     ]
    },
    {
     "data": {
      "application/vnd.jupyter.widget-view+json": {
       "model_id": "7233e419233145a6b0aa18f42f4791a2",
       "version_major": 2,
       "version_minor": 0
      },
      "text/plain": [
       "merges.txt:   0%|          | 0.00/456k [00:00<?, ?B/s]"
      ]
     },
     "metadata": {},
     "output_type": "display_data"
    },
    {
     "data": {
      "application/vnd.jupyter.widget-view+json": {
       "model_id": "5daab3ebeda2494eb255358a49f39293",
       "version_major": 2,
       "version_minor": 0
      },
      "text/plain": [
       "tokenizer_config.json:   0%|          | 0.00/25.0 [00:00<?, ?B/s]"
      ]
     },
     "metadata": {},
     "output_type": "display_data"
    },
    {
     "data": {
      "application/vnd.jupyter.widget-view+json": {
       "model_id": "1c894dc49a9c489eb2f4c9bdd4a77dfe",
       "version_major": 2,
       "version_minor": 0
      },
      "text/plain": [
       "config.json:   0%|          | 0.00/480 [00:00<?, ?B/s]"
      ]
     },
     "metadata": {},
     "output_type": "display_data"
    },
    {
     "data": {
      "application/vnd.jupyter.widget-view+json": {
       "model_id": "a4e536eac54b4ce3a5e10839f13e4752",
       "version_major": 2,
       "version_minor": 0
      },
      "text/plain": [
       "model.safetensors:   0%|          | 0.00/331M [00:00<?, ?B/s]"
      ]
     },
     "metadata": {},
     "output_type": "display_data"
    },
    {
     "name": "stderr",
     "output_type": "stream",
     "text": [
      "Some weights of RobertaForSequenceClassification were not initialized from the model checkpoint at distilroberta-base and are newly initialized: ['classifier.dense.weight', 'classifier.dense.bias', 'classifier.out_proj.weight', 'classifier.out_proj.bias']\n",
      "You should probably TRAIN this model on a down-stream task to be able to use it for predictions and inference.\n"
     ]
    },
    {
     "data": {
      "application/vnd.jupyter.widget-view+json": {
       "model_id": "",
       "version_major": 2,
       "version_minor": 0
      },
      "text/plain": [
       "Map:   0%|          | 0/800 [00:00<?, ? examples/s]"
      ]
     },
     "metadata": {},
     "output_type": "display_data"
    },
    {
     "data": {
      "application/vnd.jupyter.widget-view+json": {
       "model_id": "",
       "version_major": 2,
       "version_minor": 0
      },
      "text/plain": [
       "Map:   0%|          | 0/200 [00:00<?, ? examples/s]"
      ]
     },
     "metadata": {},
     "output_type": "display_data"
    },
    {
     "name": "stderr",
     "output_type": "stream",
     "text": [
      "C:\\Users\\flore\\AppData\\Roaming\\Python\\Python311\\site-packages\\accelerate\\accelerator.py:451: FutureWarning: Passing the following arguments to `Accelerator` is deprecated and will be removed in version 1.0 of Accelerate: dict_keys(['dispatch_batches']). Please pass an `accelerate.DataLoaderConfiguration` instead: \n",
      "dataloader_config = DataLoaderConfiguration(dispatch_batches=None)\n",
      "  warnings.warn(\n"
     ]
    },
    {
     "data": {
      "text/html": [
       "\n",
       "    <div>\n",
       "      \n",
       "      <progress value='200' max='200' style='width:300px; height:20px; vertical-align: middle;'></progress>\n",
       "      [200/200 14:38, Epoch 2/2]\n",
       "    </div>\n",
       "    <table border=\"1\" class=\"dataframe\">\n",
       "  <thead>\n",
       " <tr style=\"text-align: left;\">\n",
       "      <th>Epoch</th>\n",
       "      <th>Training Loss</th>\n",
       "      <th>Validation Loss</th>\n",
       "      <th>Accuracy</th>\n",
       "    </tr>\n",
       "  </thead>\n",
       "  <tbody>\n",
       "    <tr>\n",
       "      <td>1</td>\n",
       "      <td>No log</td>\n",
       "      <td>1.155777</td>\n",
       "      <td>0.525000</td>\n",
       "    </tr>\n",
       "    <tr>\n",
       "      <td>2</td>\n",
       "      <td>No log</td>\n",
       "      <td>1.053766</td>\n",
       "      <td>0.540000</td>\n",
       "    </tr>\n",
       "  </tbody>\n",
       "</table><p>"
      ],
      "text/plain": [
       "<IPython.core.display.HTML object>"
      ]
     },
     "metadata": {},
     "output_type": "display_data"
    },
    {
     "data": {
      "text/html": [
       "\n",
       "    <div>\n",
       "      \n",
       "      <progress value='50' max='50' style='width:300px; height:20px; vertical-align: middle;'></progress>\n",
       "      [50/50 00:27]\n",
       "    </div>\n",
       "    "
      ],
      "text/plain": [
       "<IPython.core.display.HTML object>"
      ]
     },
     "metadata": {},
     "output_type": "display_data"
    },
    {
     "name": "stdout",
     "output_type": "stream",
     "text": [
      "Fine-tuned BERT Accuracy: 0.4200\n",
      "Fine-tuned RoBERTa Accuracy: 0.5400\n",
      "State-of-the-Art Accuracy: 0.8500\n",
      "Our models are below SOTA performance. Further improvements are needed.\n"
     ]
    }
   ],
   "source": [
    "import pandas as pd\n",
    "import torch\n",
    "from transformers import BertTokenizer, BertForSequenceClassification, RobertaTokenizer, RobertaForSequenceClassification, Trainer, TrainingArguments\n",
    "from sklearn.model_selection import train_test_split\n",
    "from datasets import Dataset\n",
    "from sklearn.metrics import accuracy_score\n",
    "\n",
    "# Read CSV file using Pandas library\n",
    "df = pd.read_csv('yelp.csv')\n",
    "\n",
    "# Let's select the first 1,000 reviews for this example to reduce resource usage\n",
    "df = df.head(1000)\n",
    "\n",
    "# Ensure that the DataFrame has the expected columns\n",
    "assert 'text' in df.columns and 'stars' in df.columns, \"CSV file must contain 'text' and 'stars' columns\"\n",
    "\n",
    "# Let's Adjust labels to be in the range 0 to 4\n",
    "df['stars'] = df['stars'] - 1\n",
    "\n",
    "# Rename 'stars' column to 'label' to match the expected column name\n",
    "df = df.rename(columns={\"stars\": \"label\"})\n",
    "\n",
    "# Let's split the data into training and test sets\n",
    "train_df, test_df = train_test_split(df, test_size=0.2, random_state=42)\n",
    "\n",
    "# Converting the DataFrame to Hugging Face Datasets\n",
    "train_dataset = Dataset.from_pandas(train_df)\n",
    "test_dataset = Dataset.from_pandas(test_df)\n",
    "\n",
    "# Function to preprocess the dataset\n",
    "def preprocess_function(examples, tokenizer):\n",
    "    return tokenizer(examples['text'], truncation=True, padding='max_length', max_length=128)\n",
    "\n",
    "## Fine-Tuning step:\n",
    "\n",
    "# Fine-Tune BERT\n",
    "def fine_tune_bert(train_dataset, test_dataset):\n",
    "    model_name = \"prajjwal1/bert-mini\"  # Use a smaller BERT model\n",
    "    tokenizer = BertTokenizer.from_pretrained(model_name)\n",
    "    model = BertForSequenceClassification.from_pretrained(model_name, num_labels=5)  # Yelp reviews are rated from 1 to 5 stars\n",
    "\n",
    "    train_dataset = train_dataset.map(lambda e: preprocess_function(e, tokenizer), batched=True)\n",
    "    test_dataset = test_dataset.map(lambda e: preprocess_function(e, tokenizer), batched=True)\n",
    "\n",
    "    train_dataset.set_format(type='torch', columns=['input_ids', 'attention_mask', 'label'])\n",
    "    test_dataset.set_format(type='torch', columns=['input_ids', 'attention_mask', 'label'])\n",
    "\n",
    "    training_args = TrainingArguments(\n",
    "        output_dir=\"./results/bert\",\n",
    "        evaluation_strategy=\"epoch\",\n",
    "        save_strategy=\"epoch\",  # Set save_strategy to 'epoch'\n",
    "        logging_dir=\"./logs/bert\",\n",
    "        learning_rate=2e-5,\n",
    "        per_device_train_batch_size=4,  # Reduce the batch size\n",
    "        per_device_eval_batch_size=4,  # Reduce the batch size\n",
    "        num_train_epochs=2,  # Reduce the number of epochs\n",
    "        weight_decay=0.01,\n",
    "        save_total_limit=1,\n",
    "        load_best_model_at_end=True,\n",
    "        gradient_accumulation_steps=2,  # Accumulate gradients over 2 steps\n",
    "    )\n",
    "\n",
    "    def compute_metrics(eval_pred):\n",
    "        logits, labels = eval_pred\n",
    "        predictions = torch.argmax(torch.tensor(logits), dim=-1)\n",
    "        return {'accuracy': accuracy_score(labels, predictions)}\n",
    "\n",
    "    trainer = Trainer(\n",
    "        model=model,\n",
    "        args=training_args,\n",
    "        train_dataset=train_dataset,\n",
    "        eval_dataset=test_dataset,\n",
    "        compute_metrics=compute_metrics\n",
    "    )\n",
    "\n",
    "    trainer.train()\n",
    "    results = trainer.evaluate()\n",
    "    return results['eval_accuracy']\n",
    "\n",
    "# Fine-Tune RoBERTa (Custom Model)\n",
    "def fine_tune_roberta(train_dataset, test_dataset):\n",
    "    model_name = \"distilroberta-base\"  # Use a smaller RoBERTa model\n",
    "    tokenizer = RobertaTokenizer.from_pretrained(model_name)\n",
    "    model = RobertaForSequenceClassification.from_pretrained(model_name, num_labels=5)  # Yelp reviews are rated from 1 to 5 stars\n",
    "\n",
    "    train_dataset = train_dataset.map(lambda e: preprocess_function(e, tokenizer), batched=True)\n",
    "    test_dataset = test_dataset.map(lambda e: preprocess_function(e, tokenizer), batched=True)\n",
    "\n",
    "    train_dataset.set_format(type='torch', columns=['input_ids', 'attention_mask', 'label'])\n",
    "    test_dataset.set_format(type='torch', columns=['input_ids', 'attention_mask', 'label'])\n",
    "\n",
    "    training_args = TrainingArguments(\n",
    "        output_dir=\"./results/roberta\",\n",
    "        evaluation_strategy=\"epoch\",\n",
    "        save_strategy=\"epoch\",  # Set save_strategy to 'epoch'\n",
    "        logging_dir=\"./logs/roberta\",\n",
    "        learning_rate=2e-5,\n",
    "        per_device_train_batch_size=4,  # Reduce the batch size\n",
    "        per_device_eval_batch_size=4,  # Reduce the batch size\n",
    "        num_train_epochs=2,  # Reduce the number of epochs\n",
    "        weight_decay=0.01,\n",
    "        save_total_limit=1,\n",
    "        load_best_model_at_end=True,\n",
    "        gradient_accumulation_steps=2,  # Accumulate gradients over 2 steps\n",
    "    )\n",
    "\n",
    "    def compute_metrics(eval_pred):\n",
    "        logits, labels = eval_pred\n",
    "        predictions = torch.argmax(torch.tensor(logits), dim=-1)\n",
    "        return {'accuracy': accuracy_score(labels, predictions)}\n",
    "\n",
    "    trainer = Trainer(\n",
    "        model=model,\n",
    "        args=training_args,\n",
    "        train_dataset=train_dataset,\n",
    "        eval_dataset=test_dataset,\n",
    "        compute_metrics=compute_metrics\n",
    "    )\n",
    "\n",
    "    trainer.train()\n",
    "    results = trainer.evaluate()\n",
    "    return results['eval_accuracy']\n",
    "\n",
    "# Let's compare with SOTA Results\n",
    "def compare_with_sota():\n",
    "    sota_accuracy = 0.85  # Example SOTA accuracy value for sentiment analysis\n",
    "\n",
    "    bert_accuracy = fine_tune_bert(train_dataset, test_dataset)\n",
    "    roberta_accuracy = fine_tune_roberta(train_dataset, test_dataset)\n",
    "\n",
    "    print(f\"Fine-tuned BERT Accuracy: {bert_accuracy:.4f}\")\n",
    "    print(f\"Fine-tuned RoBERTa Accuracy: {roberta_accuracy:.4f}\")\n",
    "    print(f\"State-of-the-Art Accuracy: {sota_accuracy:.4f}\")\n",
    "\n",
    "    if roberta_accuracy > sota_accuracy:\n",
    "        print(\"Our RoBERTa model outperforms SOTA methods!\")\n",
    "    else:\n",
    "        print(\"Our models are below SOTA performance. Further improvements are needed.\")\n",
    "\n",
    "if __name__ == \"__main__\":\n",
    "    compare_with_sota()"
   ]
  }
 ],
 "metadata": {
  "kernelspec": {
   "display_name": "Python 3 (ipykernel)",
   "language": "python",
   "name": "python3"
  },
  "language_info": {
   "codemirror_mode": {
    "name": "ipython",
    "version": 3
   },
   "file_extension": ".py",
   "mimetype": "text/x-python",
   "name": "python",
   "nbconvert_exporter": "python",
   "pygments_lexer": "ipython3",
   "version": "3.11.5"
  }
 },
 "nbformat": 4,
 "nbformat_minor": 5
}
